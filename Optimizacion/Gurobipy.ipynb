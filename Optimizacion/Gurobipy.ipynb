{
 "cells": [
  {
   "cell_type": "code",
   "execution_count": 2,
   "metadata": {},
   "outputs": [
    {
     "name": "stdout",
     "output_type": "stream",
     "text": [
      "Gurobi Optimizer version 12.0.1 build v12.0.1rc0 (win64 - Windows 11.0 (26100.2))\n",
      "\n",
      "CPU model: AMD Ryzen 5 7600X 6-Core Processor, instruction set [SSE2|AVX|AVX2|AVX512]\n",
      "Thread count: 6 physical cores, 12 logical processors, using up to 12 threads\n",
      "\n",
      "Optimize a model with 2 rows, 2 columns and 4 nonzeros\n",
      "Model fingerprint: 0x0f2faba9\n",
      "Coefficient statistics:\n",
      "  Matrix range     [1e+00, 3e+00]\n",
      "  Objective range  [2e+00, 3e+00]\n",
      "  Bounds range     [0e+00, 0e+00]\n",
      "  RHS range        [1e+01, 1e+01]\n",
      "Presolve time: 0.00s\n",
      "Presolved: 2 rows, 2 columns, 4 nonzeros\n",
      "\n",
      "Iteration    Objective       Primal Inf.    Dual Inf.      Time\n",
      "       0    5.0000000e+30   2.500000e+30   5.000000e+00      0s\n",
      "       2    1.6400000e+01   0.000000e+00   0.000000e+00      0s\n",
      "\n",
      "Solved in 2 iterations and 0.00 seconds (0.00 work units)\n",
      "Optimal objective  1.640000000e+01\n",
      "Solución óptima encontrada:\n",
      "x = 2.80\n",
      "y = 3.60\n",
      "Valor óptimo de la función objetivo: 16.40\n"
     ]
    }
   ],
   "source": [
    "# Gurobipy.ipynb\n",
    "\n",
    "# ---\n",
    "# # Configuración básica para resolver modelos con Gurobi en Python\n",
    "# \n",
    "# Este notebook muestra cómo configurar y resolver un modelo de optimización lineal básico usando Gurobi y la librería `gurobipy`.\n",
    "# \n",
    "# > **Requisitos:**  \n",
    "# > - Tener instalada la librería `gurobipy`  \n",
    "# > - Disponer de una licencia válida de Gurobi\n",
    "# ---\n",
    "\n",
    "import gurobipy as gp\n",
    "from gurobipy import GRB\n",
    "\n",
    "# Establecer semilla para reproducibilidad\n",
    "import numpy as np\n",
    "np.random.seed(42)\n",
    "\n",
    "# Crear un modelo vacío\n",
    "modelo = gp.Model(\"modelo_ejemplo\")\n",
    "\n",
    "# Definir variables de decisión\n",
    "# x, y >= 0 (variables continuas)\n",
    "x = modelo.addVar(name=\"x\", lb=0)\n",
    "y = modelo.addVar(name=\"y\", lb=0)\n",
    "\n",
    "# Definir la función objetivo: maximizar 2x + 3y\n",
    "modelo.setObjective(2 * x + 3 * y, GRB.MAXIMIZE)\n",
    "\n",
    "# Agregar restricciones\n",
    "# 1) x + 2y <= 10\n",
    "modelo.addConstr(x + 2 * y <= 10, name=\"restriccion_1\")\n",
    "# 2) 3x + y <= 12\n",
    "modelo.addConstr(3 * x + y <= 12, name=\"restriccion_2\")\n",
    "\n",
    "# Optimizar el modelo\n",
    "modelo.optimize()\n",
    "\n",
    "# Mostrar resultados\n",
    "if modelo.status == GRB.OPTIMAL:\n",
    "    print(\"Solución óptima encontrada:\")\n",
    "    print(f\"x = {x.X:.2f}\")\n",
    "    print(f\"y = {y.X:.2f}\")\n",
    "    print(f\"Valor óptimo de la función objetivo: {modelo.objVal:.2f}\")\n",
    "else:\n",
    "    print(\"No se encontró una solución óptima.\")\n",
    "\n",
    "# ---\n",
    "# ## Notas\n",
    "# - Modifica las variables, restricciones y función objetivo según tu problema.\n",
    "# - Consulta la [documentación oficial de Gurobi](https://www.gurobi.com/documentation/) para más detalles y ejemplos avanzados.\n",
    "# ---\n"
   ]
  }
 ],
 "metadata": {
  "kernelspec": {
   "display_name": "Python 3",
   "language": "python",
   "name": "python3"
  },
  "language_info": {
   "codemirror_mode": {
    "name": "ipython",
    "version": 3
   },
   "file_extension": ".py",
   "mimetype": "text/x-python",
   "name": "python",
   "nbconvert_exporter": "python",
   "pygments_lexer": "ipython3",
   "version": "3.13.1"
  }
 },
 "nbformat": 4,
 "nbformat_minor": 2
}
