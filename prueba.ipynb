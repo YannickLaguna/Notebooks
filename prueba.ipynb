{
 "cells": [
  {
   "cell_type": "markdown",
   "id": "dc4a4a4e",
   "metadata": {},
   "source": [
    "prueba\n"
   ]
  }
 ],
 "metadata": {
  "language_info": {
   "name": "python"
  }
 },
 "nbformat": 4,
 "nbformat_minor": 5
}
