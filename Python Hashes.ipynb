{
 "cells": [
  {
   "cell_type": "markdown",
   "id": "d67ac973",
   "metadata": {},
   "source": [
    "# Propósito\n",
    "Revisar los distintos usos que se le pueden dar a los hashes en Python."
   ]
  },
  {
   "cell_type": "markdown",
   "id": "09c502e7",
   "metadata": {},
   "source": [
    "# ¿Qué es el hashing en Python?\n",
    "Consiste en transformar una serie de datos de entrada en una cadena de bytes de tamaño fijo. Cada entrada genera una cadena única, por lo que los hashes permiten reproducibilidad y un almacenamiento más seguro de los datos.\n",
    "\n",
    "En python, la generación de hashes además dependerá de una semilla, por lo que si no se fija, cada instancia dará como resultado hashes distintos para la misma cadena de texto.\n",
    "\n",
    "Los distintos algoritmos de hasheo deben mostrar una serie de propiedades:\n",
    "- Deterministas: Ante el mismo input, deben generar el mismo hash\n",
    "- Computacionalmente eficiente, de rápido acceso\n",
    "- Únicos: Cada input debe generar un hash único e irrepetible.\n",
    "\n"
   ]
  },
  {
   "cell_type": "code",
   "execution_count": null,
   "id": "c0792820",
   "metadata": {},
   "outputs": [
    {
     "name": "stdout",
     "output_type": "stream",
     "text": [
      "ed076287532e86365e841e92bfc50d8c\n"
     ]
    }
   ],
   "source": [
    "import hashlib # Importamos la librería hashlib, nos permite generar hashes de diferentes algoritmos.\n",
    "import hmac\n",
    "import os\n",
    "import json\n",
    "import time\n",
    "from typing import Dict, Any, Tuple, Optional\n",
    "text= \"Hello World!\"\n",
    "hash_object =hashlib.md5(text.encode())\n",
    "print(hash_object.hexdigest()) # Convertimos el hash a hexadecimal."
   ]
  },
  {
   "cell_type": "markdown",
   "id": "e1bc3b20",
   "metadata": {},
   "source": [
    "## Casos de uso: \n",
    "### Hashing archivo\n",
    "Debemos leer el archivo en chunks o bloques, que serán convertidos y actualizarán el hash. Una vez que hayamos leído el archivo completo, podemos usar digest() para producir el hash final."
   ]
  },
  {
   "cell_type": "code",
   "execution_count": 8,
   "id": "1db36404",
   "metadata": {},
   "outputs": [],
   "source": [
    "import hashlib\n",
    "import base64\n",
    "\n",
    "def hash_file_sha256(filepath):\n",
    "    \"\"\"\n",
    "    Computes the SHA-256 hash of the specified file.\n",
    "\n",
    "    :param filepath: Path to the file to be hashed\n",
    "    :return: Hexadecimal SHA-256 hash string\n",
    "    \"\"\"\n",
    "    sha256_hash = hashlib.sha256()\n",
    "    try:\n",
    "        with open(filepath, \"rb\") as f:\n",
    "            # Leemos y actualizamos el hash en bloques de 4096 bytes.\n",
    "            for byte_block in iter(lambda: f.read(4096), b\"\"):\n",
    "                sha256_hash.update(byte_block) # Actualizamos el hash con cada bloque.\n",
    "        return sha256_hash.digest() # Devolvemos el hash en formato binario.\n",
    "    except FileNotFoundError:\n",
    "        print(f\"File not found: {filepath}\")\n",
    "        return None\n",
    "    except Exception as e:\n",
    "        print(f\"An error occurred: {e}\")\n",
    "        return None"
   ]
  },
  {
   "cell_type": "code",
   "execution_count": 9,
   "id": "7a4d148f",
   "metadata": {},
   "outputs": [
    {
     "name": "stdout",
     "output_type": "stream",
     "text": [
      "b'w6\\\\\\xda(\\xd6\\xa8C\\xdc\\xfa\\x14\\xb7o\\x92;;\\x15\\xa1Liw\\x0e\\x02l\\xd2\\x05jp\\x07\\x17l`'\n",
      "77365cda28d6a843dcfa14b76f923b3b15a14c69770e026cd2056a7007176c60\n",
      "dzZc2ijWqEPc+hS3b5I7OxWhTGl3DgJs0gVqcAcXbGA=\n"
     ]
    }
   ],
   "source": [
    "# Prueba\n",
    "hash = hash_file_sha256(\"C:/Users/yanni/Documents/Codigo/Proyectos/python_hashes.ipynb\")\n",
    "print(hash)\n",
    "print(hash.hex()) \n",
    "print(base64.b64encode(hash).decode(\"utf-8\")) "
   ]
  },
  {
   "cell_type": "markdown",
   "id": "c1ca5380",
   "metadata": {},
   "source": [
    "### Almacenamiento de contraseñas:\n",
    "Hacemos uso de otra técnica llamada salting para hashear las contraseñas.\n",
    "\n",
    "El salting nos permite añadir una capa de seguridad al proceso de hasheo de las contraseñas, añadiendo un valor único a cada contraseña.\n",
    "\n",
    "Podemos identificar dos procesos:\n",
    "- Creación de contraseña\n",
    "- Verificación de contraseña"
   ]
  },
  {
   "cell_type": "code",
   "execution_count": 10,
   "id": "7bbaf2ef",
   "metadata": {},
   "outputs": [
    {
     "name": "stdout",
     "output_type": "stream",
     "text": [
      "b'XM2HZuFLGdltrzGt2oQTvQ=='\n",
      "b'WeBMH1WAF9q8efTUnnsdhXC69h5IEL5joGEXtFntCFg='\n",
      "5ccd8766e14b19d96daf31adda8413bd\n",
      "59e04c1f558017dabc79f4d49e7b1d8570baf61e4810be63a06117b459ed0858\n"
     ]
    }
   ],
   "source": [
    "# Source: https://stackoverflow.com/questions/9594125/salt-and-hash-a-password-in-python\n",
    "\n",
    "from typing import Tuple\n",
    "import os\n",
    "import hashlib\n",
    "import hmac\n",
    "import base64\n",
    "\n",
    "def hash_new_password(password: str) -> Tuple[bytes, bytes]:\n",
    "    \"\"\"\n",
    "    Hash the provided password with a randomly-generated salt and return the\n",
    "    salt and hash to store in the database.\n",
    "    \"\"\"\n",
    "    salt = os.urandom(16)\n",
    "    pw_hash = hashlib.pbkdf2_hmac('sha256', password.encode(), salt, 1000000)\n",
    "    return salt, pw_hash\n",
    "\n",
    "def is_correct_password(salt: bytes, pw_hash: bytes, password: str) -> bool:\n",
    "    \"\"\"\n",
    "    Given a previously-stored salt and hash, and a password provided by a user\n",
    "    trying to log in, check whether the password is correct.\n",
    "    \"\"\"\n",
    "    return hmac.compare_digest(\n",
    "        pw_hash,\n",
    "        hashlib.pbkdf2_hmac('sha256', password.encode(), salt, 1000000)\n",
    "    )\n",
    "\n",
    "# Example usage:\n",
    "salt, pw_hash = hash_new_password('correct horse battery staple')\n",
    "print(base64.b64encode(salt))\n",
    "print(base64.b64encode(pw_hash))\n",
    "print(salt.hex())\n",
    "print(pw_hash.hex())\n",
    "assert is_correct_password(salt, pw_hash, 'correct horse battery staple')\n",
    "assert not is_correct_password(salt, pw_hash, 'Tr0ub4dor&3')\n",
    "assert not is_correct_password(salt, pw_hash, 'rosebud')"
   ]
  },
  {
   "cell_type": "markdown",
   "id": "0c9fb693",
   "metadata": {},
   "source": [
    "Fuentes:\n",
    "- https://fintechpython.pages.oit.duke.edu/jupyternotebooks/2-Advanced%20Python/54-Cryptography.html"
   ]
  }
 ],
 "metadata": {
  "kernelspec": {
   "display_name": "Python 3",
   "language": "python",
   "name": "python3"
  },
  "language_info": {
   "codemirror_mode": {
    "name": "ipython",
    "version": 3
   },
   "file_extension": ".py",
   "mimetype": "text/x-python",
   "name": "python",
   "nbconvert_exporter": "python",
   "pygments_lexer": "ipython3",
   "version": "3.13.1"
  }
 },
 "nbformat": 4,
 "nbformat_minor": 5
}
