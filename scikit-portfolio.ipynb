{
 "cells": [
  {
   "cell_type": "code",
   "execution_count": 1,
   "metadata": {},
   "outputs": [
    {
     "ename": "ModuleNotFoundError",
     "evalue": "No module named 'skportfolio'",
     "output_type": "error",
     "traceback": [
      "\u001b[1;31m---------------------------------------------------------------------------\u001b[0m",
      "\u001b[1;31mModuleNotFoundError\u001b[0m                       Traceback (most recent call last)",
      "Cell \u001b[1;32mIn[1], line 1\u001b[0m\n\u001b[1;32m----> 1\u001b[0m \u001b[38;5;28;01mfrom\u001b[39;00m\u001b[38;5;250m \u001b[39m\u001b[38;5;21;01mskportfolio\u001b[39;00m\u001b[38;5;250m \u001b[39m\u001b[38;5;28;01mimport\u001b[39;00m MeanVarianceEfficientReturn  \n\u001b[0;32m      2\u001b[0m \u001b[38;5;28;01mfrom\u001b[39;00m\u001b[38;5;250m \u001b[39m\u001b[38;5;21;01msklearn\u001b[39;00m\u001b[38;5;21;01m.\u001b[39;00m\u001b[38;5;21;01msvm\u001b[39;00m\u001b[38;5;250m \u001b[39m\u001b[38;5;28;01mimport\u001b[39;00m SVR  \n\u001b[0;32m      3\u001b[0m \u001b[38;5;28;01mfrom\u001b[39;00m\u001b[38;5;250m \u001b[39m\u001b[38;5;21;01mskportfolio\u001b[39;00m\u001b[38;5;21;01m.\u001b[39;00m\u001b[38;5;21;01mdatasets\u001b[39;00m\u001b[38;5;250m \u001b[39m\u001b[38;5;28;01mimport\u001b[39;00m load_tech_stock_prices  \n",
      "\u001b[1;31mModuleNotFoundError\u001b[0m: No module named 'skportfolio'"
     ]
    }
   ],
   "source": [
    "from skportfolio import MeanVarianceEfficientReturn  \n",
    "from sklearn.svm import SVR  \n",
    "from skportfolio.datasets import load_tech_stock_prices  \n",
    "\n",
    "# Entrenar SVM para predecir retornos  \n",
    "prices = load_tech_stock_prices()  \n",
    "returns = prices.pct_change().dropna()  \n",
    "model_svr = SVR(kernel='rbf', C=1e3, gamma=0.1).fit(returns.iloc[:-1], returns.shift(-1).iloc[:-1].mean(axis=1))  \n",
    "mu_pred = model_svr.predict(returns.iloc[[-1]])  \n",
    "\n",
    "# Optimizar portafolio con mu_pred  \n",
    "mvo = MeanVarianceEfficientReturn().set_target_return(mu_pred)  \n",
    "weights = mvo.fit(prices).weights_  \n"
   ]
  }
 ],
 "metadata": {
  "kernelspec": {
   "display_name": "Python 3",
   "language": "python",
   "name": "python3"
  },
  "language_info": {
   "codemirror_mode": {
    "name": "ipython",
    "version": 3
   },
   "file_extension": ".py",
   "mimetype": "text/x-python",
   "name": "python",
   "nbconvert_exporter": "python",
   "pygments_lexer": "ipython3",
   "version": "3.13.1"
  }
 },
 "nbformat": 4,
 "nbformat_minor": 2
}
